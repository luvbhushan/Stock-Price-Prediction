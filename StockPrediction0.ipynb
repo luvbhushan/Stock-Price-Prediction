{
  "nbformat": 4,
  "nbformat_minor": 0,
  "metadata": {
    "colab": {
      "provenance": []
    },
    "kernelspec": {
      "name": "python3",
      "display_name": "Python 3"
    },
    "language_info": {
      "name": "python"
    }
  },
  "cells": [
    {
      "cell_type": "code",
      "source": [
        "import pandas as pd\n",
        "import numpy as np\n",
        "import matplotlib.pyplot as plt"
      ],
      "metadata": {
        "id": "CVMxuvsqNVMv"
      },
      "execution_count": null,
      "outputs": []
    },
    {
      "cell_type": "code",
      "source": [
        "df = pd.read_excel('/content/Quote-Equity-SBIN-EQ-15-07-2021-to-15-07-2022.xlsx',parse_dates=True,index_col='Date ')"
      ],
      "metadata": {
        "id": "LmrM0V2LNtxR"
      },
      "execution_count": null,
      "outputs": []
    },
    {
      "cell_type": "code",
      "source": [
        "df.head()"
      ],
      "metadata": {
        "colab": {
          "base_uri": "https://localhost:8080/",
          "height": 238
        },
        "id": "0J5Wck-nPd1Z",
        "outputId": "97538bfe-9b0f-4ec6-ae98-bac39a0ac00e"
      },
      "execution_count": null,
      "outputs": [
        {
          "output_type": "execute_result",
          "data": {
            "text/plain": [
              "           series    OPEN    HIGH     LOW   PREV. CLOSE     ltp   close   \\\n",
              "Date                                                                       \n",
              "2022-07-15      EQ  482.55  484.40  474.70        479.35  478.70  479.10   \n",
              "2022-07-14      EQ  486.60  488.90  476.80        486.50  480.30  479.35   \n",
              "2022-07-13      EQ  487.75  492.45  484.55        484.95  486.20  486.50   \n",
              "2022-07-12      EQ  485.00  491.35  483.10        488.20  483.40  484.95   \n",
              "2022-07-11      EQ  485.00  491.30  485.00        488.55  488.05  488.20   \n",
              "\n",
              "             vwap   52W H   52W L   VOLUME             VALUE   No of trades   \n",
              "Date                                                                          \n",
              "2022-07-15  478.30   549.0  401.25  6945602  3,322,054,772.00         120161  \n",
              "2022-07-14  482.03   549.0  401.25  9385630  4,524,120,598.85         151617  \n",
              "2022-07-13  488.27   549.0  401.25  8208853  4,008,106,035.85         129820  \n",
              "2022-07-12  488.66   549.0  401.25  7364457  3,598,704,148.85         108367  \n",
              "2022-07-11  488.75   549.0  401.25  7704792  3,765,716,046.15          94857  "
            ],
            "text/html": [
              "\n",
              "  <div id=\"df-e7a5a707-8d79-41f9-92f5-ded89b1b015a\">\n",
              "    <div class=\"colab-df-container\">\n",
              "      <div>\n",
              "<style scoped>\n",
              "    .dataframe tbody tr th:only-of-type {\n",
              "        vertical-align: middle;\n",
              "    }\n",
              "\n",
              "    .dataframe tbody tr th {\n",
              "        vertical-align: top;\n",
              "    }\n",
              "\n",
              "    .dataframe thead th {\n",
              "        text-align: right;\n",
              "    }\n",
              "</style>\n",
              "<table border=\"1\" class=\"dataframe\">\n",
              "  <thead>\n",
              "    <tr style=\"text-align: right;\">\n",
              "      <th></th>\n",
              "      <th>series</th>\n",
              "      <th>OPEN</th>\n",
              "      <th>HIGH</th>\n",
              "      <th>LOW</th>\n",
              "      <th>PREV. CLOSE</th>\n",
              "      <th>ltp</th>\n",
              "      <th>close</th>\n",
              "      <th>vwap</th>\n",
              "      <th>52W H</th>\n",
              "      <th>52W L</th>\n",
              "      <th>VOLUME</th>\n",
              "      <th>VALUE</th>\n",
              "      <th>No of trades</th>\n",
              "    </tr>\n",
              "    <tr>\n",
              "      <th>Date</th>\n",
              "      <th></th>\n",
              "      <th></th>\n",
              "      <th></th>\n",
              "      <th></th>\n",
              "      <th></th>\n",
              "      <th></th>\n",
              "      <th></th>\n",
              "      <th></th>\n",
              "      <th></th>\n",
              "      <th></th>\n",
              "      <th></th>\n",
              "      <th></th>\n",
              "      <th></th>\n",
              "    </tr>\n",
              "  </thead>\n",
              "  <tbody>\n",
              "    <tr>\n",
              "      <th>2022-07-15</th>\n",
              "      <td>EQ</td>\n",
              "      <td>482.55</td>\n",
              "      <td>484.40</td>\n",
              "      <td>474.70</td>\n",
              "      <td>479.35</td>\n",
              "      <td>478.70</td>\n",
              "      <td>479.10</td>\n",
              "      <td>478.30</td>\n",
              "      <td>549.0</td>\n",
              "      <td>401.25</td>\n",
              "      <td>6945602</td>\n",
              "      <td>3,322,054,772.00</td>\n",
              "      <td>120161</td>\n",
              "    </tr>\n",
              "    <tr>\n",
              "      <th>2022-07-14</th>\n",
              "      <td>EQ</td>\n",
              "      <td>486.60</td>\n",
              "      <td>488.90</td>\n",
              "      <td>476.80</td>\n",
              "      <td>486.50</td>\n",
              "      <td>480.30</td>\n",
              "      <td>479.35</td>\n",
              "      <td>482.03</td>\n",
              "      <td>549.0</td>\n",
              "      <td>401.25</td>\n",
              "      <td>9385630</td>\n",
              "      <td>4,524,120,598.85</td>\n",
              "      <td>151617</td>\n",
              "    </tr>\n",
              "    <tr>\n",
              "      <th>2022-07-13</th>\n",
              "      <td>EQ</td>\n",
              "      <td>487.75</td>\n",
              "      <td>492.45</td>\n",
              "      <td>484.55</td>\n",
              "      <td>484.95</td>\n",
              "      <td>486.20</td>\n",
              "      <td>486.50</td>\n",
              "      <td>488.27</td>\n",
              "      <td>549.0</td>\n",
              "      <td>401.25</td>\n",
              "      <td>8208853</td>\n",
              "      <td>4,008,106,035.85</td>\n",
              "      <td>129820</td>\n",
              "    </tr>\n",
              "    <tr>\n",
              "      <th>2022-07-12</th>\n",
              "      <td>EQ</td>\n",
              "      <td>485.00</td>\n",
              "      <td>491.35</td>\n",
              "      <td>483.10</td>\n",
              "      <td>488.20</td>\n",
              "      <td>483.40</td>\n",
              "      <td>484.95</td>\n",
              "      <td>488.66</td>\n",
              "      <td>549.0</td>\n",
              "      <td>401.25</td>\n",
              "      <td>7364457</td>\n",
              "      <td>3,598,704,148.85</td>\n",
              "      <td>108367</td>\n",
              "    </tr>\n",
              "    <tr>\n",
              "      <th>2022-07-11</th>\n",
              "      <td>EQ</td>\n",
              "      <td>485.00</td>\n",
              "      <td>491.30</td>\n",
              "      <td>485.00</td>\n",
              "      <td>488.55</td>\n",
              "      <td>488.05</td>\n",
              "      <td>488.20</td>\n",
              "      <td>488.75</td>\n",
              "      <td>549.0</td>\n",
              "      <td>401.25</td>\n",
              "      <td>7704792</td>\n",
              "      <td>3,765,716,046.15</td>\n",
              "      <td>94857</td>\n",
              "    </tr>\n",
              "  </tbody>\n",
              "</table>\n",
              "</div>\n",
              "      <button class=\"colab-df-convert\" onclick=\"convertToInteractive('df-e7a5a707-8d79-41f9-92f5-ded89b1b015a')\"\n",
              "              title=\"Convert this dataframe to an interactive table.\"\n",
              "              style=\"display:none;\">\n",
              "        \n",
              "  <svg xmlns=\"http://www.w3.org/2000/svg\" height=\"24px\"viewBox=\"0 0 24 24\"\n",
              "       width=\"24px\">\n",
              "    <path d=\"M0 0h24v24H0V0z\" fill=\"none\"/>\n",
              "    <path d=\"M18.56 5.44l.94 2.06.94-2.06 2.06-.94-2.06-.94-.94-2.06-.94 2.06-2.06.94zm-11 1L8.5 8.5l.94-2.06 2.06-.94-2.06-.94L8.5 2.5l-.94 2.06-2.06.94zm10 10l.94 2.06.94-2.06 2.06-.94-2.06-.94-.94-2.06-.94 2.06-2.06.94z\"/><path d=\"M17.41 7.96l-1.37-1.37c-.4-.4-.92-.59-1.43-.59-.52 0-1.04.2-1.43.59L10.3 9.45l-7.72 7.72c-.78.78-.78 2.05 0 2.83L4 21.41c.39.39.9.59 1.41.59.51 0 1.02-.2 1.41-.59l7.78-7.78 2.81-2.81c.8-.78.8-2.07 0-2.86zM5.41 20L4 18.59l7.72-7.72 1.47 1.35L5.41 20z\"/>\n",
              "  </svg>\n",
              "      </button>\n",
              "      \n",
              "  <style>\n",
              "    .colab-df-container {\n",
              "      display:flex;\n",
              "      flex-wrap:wrap;\n",
              "      gap: 12px;\n",
              "    }\n",
              "\n",
              "    .colab-df-convert {\n",
              "      background-color: #E8F0FE;\n",
              "      border: none;\n",
              "      border-radius: 50%;\n",
              "      cursor: pointer;\n",
              "      display: none;\n",
              "      fill: #1967D2;\n",
              "      height: 32px;\n",
              "      padding: 0 0 0 0;\n",
              "      width: 32px;\n",
              "    }\n",
              "\n",
              "    .colab-df-convert:hover {\n",
              "      background-color: #E2EBFA;\n",
              "      box-shadow: 0px 1px 2px rgba(60, 64, 67, 0.3), 0px 1px 3px 1px rgba(60, 64, 67, 0.15);\n",
              "      fill: #174EA6;\n",
              "    }\n",
              "\n",
              "    [theme=dark] .colab-df-convert {\n",
              "      background-color: #3B4455;\n",
              "      fill: #D2E3FC;\n",
              "    }\n",
              "\n",
              "    [theme=dark] .colab-df-convert:hover {\n",
              "      background-color: #434B5C;\n",
              "      box-shadow: 0px 1px 3px 1px rgba(0, 0, 0, 0.15);\n",
              "      filter: drop-shadow(0px 1px 2px rgba(0, 0, 0, 0.3));\n",
              "      fill: #FFFFFF;\n",
              "    }\n",
              "  </style>\n",
              "\n",
              "      <script>\n",
              "        const buttonEl =\n",
              "          document.querySelector('#df-e7a5a707-8d79-41f9-92f5-ded89b1b015a button.colab-df-convert');\n",
              "        buttonEl.style.display =\n",
              "          google.colab.kernel.accessAllowed ? 'block' : 'none';\n",
              "\n",
              "        async function convertToInteractive(key) {\n",
              "          const element = document.querySelector('#df-e7a5a707-8d79-41f9-92f5-ded89b1b015a');\n",
              "          const dataTable =\n",
              "            await google.colab.kernel.invokeFunction('convertToInteractive',\n",
              "                                                     [key], {});\n",
              "          if (!dataTable) return;\n",
              "\n",
              "          const docLinkHtml = 'Like what you see? Visit the ' +\n",
              "            '<a target=\"_blank\" href=https://colab.research.google.com/notebooks/data_table.ipynb>data table notebook</a>'\n",
              "            + ' to learn more about interactive tables.';\n",
              "          element.innerHTML = '';\n",
              "          dataTable['output_type'] = 'display_data';\n",
              "          await google.colab.output.renderOutput(dataTable, element);\n",
              "          const docLink = document.createElement('div');\n",
              "          docLink.innerHTML = docLinkHtml;\n",
              "          element.appendChild(docLink);\n",
              "        }\n",
              "      </script>\n",
              "    </div>\n",
              "  </div>\n",
              "  "
            ]
          },
          "metadata": {},
          "execution_count": 10
        }
      ]
    },
    {
      "cell_type": "code",
      "source": [
        "df.info()"
      ],
      "metadata": {
        "colab": {
          "base_uri": "https://localhost:8080/"
        },
        "id": "7yzM7ABAPt0s",
        "outputId": "5e3b278d-ef92-4945-e507-6e9e2d0b780b"
      },
      "execution_count": null,
      "outputs": [
        {
          "output_type": "stream",
          "name": "stdout",
          "text": [
            "<class 'pandas.core.frame.DataFrame'>\n",
            "DatetimeIndex: 250 entries, 2022-07-15 to 2021-07-15\n",
            "Data columns (total 13 columns):\n",
            " #   Column         Non-Null Count  Dtype  \n",
            "---  ------         --------------  -----  \n",
            " 0   series         250 non-null    object \n",
            " 1   OPEN           250 non-null    float64\n",
            " 2   HIGH           250 non-null    float64\n",
            " 3   LOW            250 non-null    float64\n",
            " 4   PREV. CLOSE    250 non-null    float64\n",
            " 5   ltp            250 non-null    float64\n",
            " 6   close          250 non-null    float64\n",
            " 7   vwap           250 non-null    float64\n",
            " 8   52W H          250 non-null    float64\n",
            " 9   52W L          250 non-null    float64\n",
            " 10  VOLUME         250 non-null    int64  \n",
            " 11  VALUE          250 non-null    object \n",
            " 12  No of trades   250 non-null    int64  \n",
            "dtypes: float64(9), int64(2), object(2)\n",
            "memory usage: 27.3+ KB\n"
          ]
        }
      ]
    },
    {
      "cell_type": "code",
      "source": [
        "df['close '].plot()"
      ],
      "metadata": {
        "colab": {
          "base_uri": "https://localhost:8080/",
          "height": 294
        },
        "id": "85Efh4s6P3Dy",
        "outputId": "4cbad754-85fc-4206-970f-8202f23bc05c"
      },
      "execution_count": null,
      "outputs": [
        {
          "output_type": "execute_result",
          "data": {
            "text/plain": [
              "<matplotlib.axes._subplots.AxesSubplot at 0x7f6608dd60d0>"
            ]
          },
          "metadata": {},
          "execution_count": 12
        },
        {
          "output_type": "display_data",
          "data": {
            "text/plain": [
              "<Figure size 432x288 with 1 Axes>"
            ],
            "image/png": "[encoded data removed]"
          },
          "metadata": {
            "needs_background": "light"
          }
        }
      ]
    },
    {
      "cell_type": "code",
      "source": [
        "len(df)"
      ],
      "metadata": {
        "colab": {
          "base_uri": "https://localhost:8080/"
        },
        "id": "6V6ZUyHlQmEM",
        "outputId": "8cffa4ae-471a-451b-ba42-bb0be34a2b7f"
      },
      "execution_count": null,
      "outputs": [
        {
          "output_type": "execute_result",
          "data": {
            "text/plain": [
              "250"
            ]
          },
          "metadata": {},
          "execution_count": 13
        }
      ]
    },
    {
      "cell_type": "code",
      "source": [
        "sbi_close=df['close ']"
      ],
      "metadata": {
        "id": "YhsYFyW4Qxk5"
      },
      "execution_count": null,
      "outputs": []
    },
    {
      "cell_type": "code",
      "source": [
        "sbi_close.reset_index(drop=True,inplace=True)\n",
        "sbi_close.shape"
      ],
      "metadata": {
        "colab": {
          "base_uri": "https://localhost:8080/"
        },
        "id": "Dg1QMNIgRHt6",
        "outputId": "5279e71e-9b5c-4264-fbab-d9253e4b2844"
      },
      "execution_count": null,
      "outputs": [
        {
          "output_type": "execute_result",
          "data": {
            "text/plain": [
              "(250,)"
            ]
          },
          "metadata": {},
          "execution_count": 15
        }
      ]
    },
    {
      "cell_type": "code",
      "source": [
        "sbi_close=pd.DataFrame(sbi_close)"
      ],
      "metadata": {
        "id": "QtKXEdVmRf8p"
      },
      "execution_count": null,
      "outputs": []
    },
    {
      "cell_type": "code",
      "source": [
        "train=sbi_close.iloc[:200]\n",
        "test=sbi_close.iloc[200:25]"
      ],
      "metadata": {
        "id": "N9gGclC6Ro1q"
      },
      "execution_count": null,
      "outputs": []
    },
    {
      "cell_type": "code",
      "source": [
        "from sklearn.preprocessing import MinMaxScaler\n"
      ],
      "metadata": {
        "id": "ssaZ1DxAR_uk"
      },
      "execution_count": null,
      "outputs": []
    },
    {
      "cell_type": "code",
      "source": [
        "scaler=MinMaxScaler()\n"
      ],
      "metadata": {
        "id": "xOMzywcrSdqa"
      },
      "execution_count": null,
      "outputs": []
    },
    {
      "cell_type": "code",
      "source": [
        "scaler.fit(train)\n"
      ],
      "metadata": {
        "colab": {
          "base_uri": "https://localhost:8080/"
        },
        "id": "zI-6ymxFSgX6",
        "outputId": "8ddb9786-aa48-4975-92a6-f5f1e77e486f"
      },
      "execution_count": null,
      "outputs": [
        {
          "output_type": "execute_result",
          "data": {
            "text/plain": [
              "MinMaxScaler()"
            ]
          },
          "metadata": {},
          "execution_count": 20
        }
      ]
    },
    {
      "cell_type": "code",
      "source": [
        "scaled_train=scaler.transform(train)\n",
        "scaled_test=scaler.transform(test)"
      ],
      "metadata": {
        "id": "cQMFZT5kTMar"
      },
      "execution_count": null,
      "outputs": []
    },
    {
      "cell_type": "code",
      "source": [
        "from tensorflow.keras.preprocessing.sequence import TimeseriesGenerator"
      ],
      "metadata": {
        "id": "LGG_1KKDTfNu"
      },
      "execution_count": null,
      "outputs": []
    },
    {
      "cell_type": "markdown",
      "source": [
        "CREATING THE MODEL"
      ],
      "metadata": {
        "id": "3WlHAzOWk4pf"
      }
    },
    {
      "cell_type": "code",
      "source": [
        "test.shape"
      ],
      "metadata": {
        "colab": {
          "base_uri": "https://localhost:8080/"
        },
        "id": "c2JJlh0BlAAa",
        "outputId": "bf79d073-cdc2-4dba-cb0c-f489311b367d"
      },
      "execution_count": null,
      "outputs": [
        {
          "output_type": "execute_result",
          "data": {
            "text/plain": [
              "(50, 1)"
            ]
          },
          "metadata": {},
          "execution_count": 23
        }
      ]
    },
    {
      "cell_type": "code",
      "source": [
        "length=50\n",
        "batch_size=32\n",
        "generator = TimeseriesGenerator(scaled_train,scaled_train,\n",
        "                                length=length,batch_size=batch_size)"
      ],
      "metadata": {
        "id": "XXyJ9Y9ylPSy"
      },
      "execution_count": null,
      "outputs": []
    },
    {
      "cell_type": "code",
      "source": [
        "from tensorflow.keras.models import Sequential\n",
        "from tensorflow.keras.layers import Dense ,SimpleRNN,LSTM,Dropout"
      ],
      "metadata": {
        "id": "kM2_VGiyseY9"
      },
      "execution_count": null,
      "outputs": []
    },
    {
      "cell_type": "code",
      "source": [
        "n_features = 1"
      ],
      "metadata": {
        "id": "a6S3H0ixs2Pr"
      },
      "execution_count": null,
      "outputs": []
    },
    {
      "cell_type": "code",
      "source": [
        "model = Sequential()\n",
        "model.add(SimpleRNN(30,input_shape=(length,n_features)))\n",
        "model.add(Dropout(rate=0.2))\n",
        "model.add(Dense(1))\n",
        "model.compile(optimizer='adam',loss='mse')"
      ],
      "metadata": {
        "id": "yXHwp9Bds6pE"
      },
      "execution_count": null,
      "outputs": []
    },
    {
      "cell_type": "code",
      "source": [
        "model.summary()"
      ],
      "metadata": {
        "colab": {
          "base_uri": "https://localhost:8080/"
        },
        "id": "a9wuM9JJuKsh",
        "outputId": "5088d0de-0421-4051-ac43-95f2ba34b7e3"
      },
      "execution_count": null,
      "outputs": [
        {
          "output_type": "stream",
          "name": "stdout",
          "text": [
            "Model: \"sequential\"\n",
            "_________________________________________________________________\n",
            " Layer (type)                Output Shape              Param #   \n",
            "=================================================================\n",
            " simple_rnn (SimpleRNN)      (None, 30)                960       \n",
            "                                                                 \n",
            " dropout (Dropout)           (None, 30)                0         \n",
            "                                                                 \n",
            " dense (Dense)               (None, 1)                 31        \n",
            "                                                                 \n",
            "=================================================================\n",
            "Total params: 991\n",
            "Trainable params: 991\n",
            "Non-trainable params: 0\n",
            "_________________________________________________________________\n"
          ]
        }
      ]
    },
    {
      "cell_type": "code",
      "source": [
        "model.fit_generator(generator,epochs=10,shuffle=False)"
      ],
      "metadata": {
        "colab": {
          "base_uri": "https://localhost:8080/"
        },
        "id": "CR40R6Li1Bgu",
        "outputId": "455f7252-6190-4956-aba1-dd157dc77c4d"
      },
      "execution_count": null,
      "outputs": [
        {
          "output_type": "stream",
          "name": "stdout",
          "text": [
            "Epoch 1/10\n"
          ]
        },
        {
          "output_type": "stream",
          "name": "stderr",
          "text": [
            "/usr/local/lib/python3.7/dist-packages/ipykernel_launcher.py:1: UserWarning: `Model.fit_generator` is deprecated and will be removed in a future version. Please use `Model.fit`, which supports generators.\n",
            "  \"\"\"Entry point for launching an IPython kernel.\n"
          ]
        },
        {
          "output_type": "stream",
          "name": "stdout",
          "text": [
            "5/5 [==============================] - 1s 11ms/step - loss: 0.0899\n",
            "Epoch 2/10\n",
            "5/5 [==============================] - 0s 9ms/step - loss: 0.0950\n",
            "Epoch 3/10\n",
            "5/5 [==============================] - 0s 10ms/step - loss: 0.0705\n",
            "Epoch 4/10\n",
            "5/5 [==============================] - 0s 9ms/step - loss: 0.0591\n",
            "Epoch 5/10\n",
            "5/5 [==============================] - 0s 9ms/step - loss: 0.0565\n",
            "Epoch 6/10\n",
            "5/5 [==============================] - 0s 10ms/step - loss: 0.0516\n",
            "Epoch 7/10\n",
            "5/5 [==============================] - 0s 10ms/step - loss: 0.0465\n",
            "Epoch 8/10\n",
            "5/5 [==============================] - 0s 9ms/step - loss: 0.0470\n",
            "Epoch 9/10\n",
            "5/5 [==============================] - 0s 9ms/step - loss: 0.0398\n",
            "Epoch 10/10\n",
            "5/5 [==============================] - 0s 11ms/step - loss: 0.0339\n"
          ]
        },
        {
          "output_type": "execute_result",
          "data": {
            "text/plain": [
              "<keras.callbacks.History at 0x7f65904efd10>"
            ]
          },
          "metadata": {},
          "execution_count": 29
        }
      ]
    },
    {
      "cell_type": "code",
      "source": [
        "losses=pd.DataFrame(model.history.history)"
      ],
      "metadata": {
        "id": "p39TQWGv2VLv"
      },
      "execution_count": null,
      "outputs": []
    },
    {
      "cell_type": "code",
      "source": [
        "losses.plot()"
      ],
      "metadata": {
        "colab": {
          "base_uri": "https://localhost:8080/",
          "height": 282
        },
        "id": "wjcHS8Ed3Kgy",
        "outputId": "ed86a9a8-ec7e-44b1-a2f1-4fdaf5ea7c80"
      },
      "execution_count": null,
      "outputs": [
        {
          "output_type": "execute_result",
          "data": {
            "text/plain": [
              "<matplotlib.axes._subplots.AxesSubplot at 0x7f658958b910>"
            ]
          },
          "metadata": {},
          "execution_count": 31
        },
        {
          "output_type": "display_data",
          "data": {
            "text/plain": [
              "<Figure size 432x288 with 1 Axes>"
            ],
            "image/png": "[encoded data removed]"
          },
          "metadata": {
            "needs_background": "light"
          }
        }
      ]
    },
    {
      "cell_type": "markdown",
      "source": [
        "Evaluate test set"
      ],
      "metadata": {
        "id": "1cWu03rR__rG"
      }
    },
    {
      "cell_type": "code",
      "source": [
        "first_eval_batch=scaled_train[-length:]"
      ],
      "metadata": {
        "id": "MDuO0Mpy37EE"
      },
      "execution_count": null,
      "outputs": []
    },
    {
      "cell_type": "code",
      "source": [
        "first_eval_batch"
      ],
      "metadata": {
        "colab": {
          "base_uri": "https://localhost:8080/"
        },
        "id": "ZN7wFF1x698S",
        "outputId": "f137be61-35c8-4855-a702-34c4d511f076"
      },
      "execution_count": null,
      "outputs": [
        {
          "output_type": "execute_result",
          "data": {
            "text/plain": [
              "array([[0.50968351],\n",
              "       [0.53708077],\n",
              "       [0.39678791],\n",
              "       [0.28908833],\n",
              "       [0.36324988],\n",
              "       [0.39962211],\n",
              "       [0.38356164],\n",
              "       [0.24421351],\n",
              "       [0.28719887],\n",
              "       [0.33821445],\n",
              "       [0.52763344],\n",
              "       [0.5521965 ],\n",
              "       [0.55125177],\n",
              "       [0.48842702],\n",
              "       [0.65281058],\n",
              "       [0.59943316],\n",
              "       [0.5706188 ],\n",
              "       [0.67879074],\n",
              "       [0.72413793],\n",
              "       [0.7076051 ],\n",
              "       [0.8474256 ],\n",
              "       [0.89230043],\n",
              "       [0.83656117],\n",
              "       [0.90458196],\n",
              "       [0.87812943],\n",
              "       [0.82191781],\n",
              "       [0.76523382],\n",
              "       [0.63722248],\n",
              "       [0.62966462],\n",
              "       [0.79782711],\n",
              "       [0.73547473],\n",
              "       [0.67831838],\n",
              "       [0.64478035],\n",
              "       [0.64478035],\n",
              "       [0.61596599],\n",
              "       [0.50543222],\n",
              "       [0.59754369],\n",
              "       [0.52810581],\n",
              "       [0.44402456],\n",
              "       [0.45630609],\n",
              "       [0.32640529],\n",
              "       [0.22012282],\n",
              "       [0.21917808],\n",
              "       [0.21256495],\n",
              "       [0.28341993],\n",
              "       [0.26877657],\n",
              "       [0.16013226],\n",
              "       [0.17288616],\n",
              "       [0.23901748],\n",
              "       [0.09636278]])"
            ]
          },
          "metadata": {},
          "execution_count": 33
        }
      ]
    },
    {
      "cell_type": "code",
      "source": [
        "first_eval_batch=first_eval_batch.reshape((1,length,1))"
      ],
      "metadata": {
        "id": "wKD-AwG07VMV"
      },
      "execution_count": null,
      "outputs": []
    },
    {
      "cell_type": "code",
      "source": [
        "first_eval_batch"
      ],
      "metadata": {
        "colab": {
          "base_uri": "https://localhost:8080/"
        },
        "id": "ItpAziFq7_1C",
        "outputId": "8d5dfade-df85-4bb3-e93b-4bcbf65708ab"
      },
      "execution_count": null,
      "outputs": [
        {
          "output_type": "execute_result",
          "data": {
            "text/plain": [
              "array([[[0.50968351],\n",
              "        [0.53708077],\n",
              "        [0.39678791],\n",
              "        [0.28908833],\n",
              "        [0.36324988],\n",
              "        [0.39962211],\n",
              "        [0.38356164],\n",
              "        [0.24421351],\n",
              "        [0.28719887],\n",
              "        [0.33821445],\n",
              "        [0.52763344],\n",
              "        [0.5521965 ],\n",
              "        [0.55125177],\n",
              "        [0.48842702],\n",
              "        [0.65281058],\n",
              "        [0.59943316],\n",
              "        [0.5706188 ],\n",
              "        [0.67879074],\n",
              "        [0.72413793],\n",
              "        [0.7076051 ],\n",
              "        [0.8474256 ],\n",
              "        [0.89230043],\n",
              "        [0.83656117],\n",
              "        [0.90458196],\n",
              "        [0.87812943],\n",
              "        [0.82191781],\n",
              "        [0.76523382],\n",
              "        [0.63722248],\n",
              "        [0.62966462],\n",
              "        [0.79782711],\n",
              "        [0.73547473],\n",
              "        [0.67831838],\n",
              "        [0.64478035],\n",
              "        [0.64478035],\n",
              "        [0.61596599],\n",
              "        [0.50543222],\n",
              "        [0.59754369],\n",
              "        [0.52810581],\n",
              "        [0.44402456],\n",
              "        [0.45630609],\n",
              "        [0.32640529],\n",
              "        [0.22012282],\n",
              "        [0.21917808],\n",
              "        [0.21256495],\n",
              "        [0.28341993],\n",
              "        [0.26877657],\n",
              "        [0.16013226],\n",
              "        [0.17288616],\n",
              "        [0.23901748],\n",
              "        [0.09636278]]])"
            ]
          },
          "metadata": {},
          "execution_count": 35
        }
      ]
    },
    {
      "cell_type": "code",
      "source": [
        "model.predict(first_eval_batch)"
      ],
      "metadata": {
        "colab": {
          "base_uri": "https://localhost:8080/"
        },
        "id": "XfGNibqf8EI9",
        "outputId": "3f16946b-02fd-4edf-ed79-ae7f3aa8c862"
      },
      "execution_count": null,
      "outputs": [
        {
          "output_type": "execute_result",
          "data": {
            "text/plain": [
              "array([[0.17036825]], dtype=float32)"
            ]
          },
          "metadata": {},
          "execution_count": 36
        }
      ]
    },
    {
      "cell_type": "code",
      "source": [
        "scaled_test[0]"
      ],
      "metadata": {
        "colab": {
          "base_uri": "https://localhost:8080/"
        },
        "id": "foIjRYTV8M0r",
        "outputId": "38925318-94db-4275-8347-69031fe199d2"
      },
      "execution_count": null,
      "outputs": [
        {
          "output_type": "execute_result",
          "data": {
            "text/plain": [
              "array([0.11242324])"
            ]
          },
          "metadata": {},
          "execution_count": 37
        }
      ]
    },
    {
      "cell_type": "markdown",
      "source": [
        "////"
      ],
      "metadata": {
        "id": "eX2WKPlNBM7R"
      }
    },
    {
      "cell_type": "code",
      "source": [
        "test_predictions =[]\n",
        "first_eval_batch =scaled_train[-length: ]\n",
        "current_batch=first_eval_batch.reshape((1, length, n_features ))\n",
        "for i in range(len(test)):\n",
        "# get prediction 1 time stamp ahead ([0] is for grabbing just the number instead of (array])\n",
        "  current_pred = model.predict(current_batch) [0]\n",
        "#store prediction\n",
        "  test_predictions.append(current_pred)\n",
        "# update batch to now include prediction and drop first value\n",
        "  current_batch = np.append(current_batch[:,1:,:], [[current_pred]],axis=1)"
      ],
      "metadata": {
        "id": "nTr7feYf8QMn"
      },
      "execution_count": null,
      "outputs": []
    },
    {
      "cell_type": "code",
      "source": [
        "test_predictions"
      ],
      "metadata": {
        "colab": {
          "base_uri": "https://localhost:8080/"
        },
        "id": "B-EAsJ7cB_EJ",
        "outputId": "77d698b0-2211-4f95-cadf-3d856bf31e14"
      },
      "execution_count": null,
      "outputs": [
        {
          "output_type": "execute_result",
          "data": {
            "text/plain": [
              "[array([0.17036825], dtype=float32),\n",
              " array([0.1856125], dtype=float32),\n",
              " array([0.12126873], dtype=float32),\n",
              " array([0.08603953], dtype=float32),\n",
              " array([0.14266005], dtype=float32),\n",
              " array([0.04206832], dtype=float32),\n",
              " array([0.0465005], dtype=float32),\n",
              " array([0.10231782], dtype=float32),\n",
              " array([-0.00560712], dtype=float32),\n",
              " array([0.01978011], dtype=float32),\n",
              " array([0.0887991], dtype=float32),\n",
              " array([-0.0912746], dtype=float32),\n",
              " array([-0.06208401], dtype=float32),\n",
              " array([-0.03745965], dtype=float32),\n",
              " array([-0.1217147], dtype=float32),\n",
              " array([-0.27304456], dtype=float32),\n",
              " array([-0.140686], dtype=float32),\n",
              " array([-0.34501174], dtype=float32),\n",
              " array([-0.44160724], dtype=float32),\n",
              " array([-0.23113662], dtype=float32),\n",
              " array([-0.47048604], dtype=float32),\n",
              " array([-0.52395445], dtype=float32),\n",
              " array([-0.3466343], dtype=float32),\n",
              " array([-0.5859357], dtype=float32),\n",
              " array([-0.5489162], dtype=float32),\n",
              " array([-0.4870207], dtype=float32),\n",
              " array([-0.5814638], dtype=float32),\n",
              " array([-0.7046769], dtype=float32),\n",
              " array([-0.50798446], dtype=float32),\n",
              " array([-0.5947069], dtype=float32),\n",
              " array([-0.7789523], dtype=float32),\n",
              " array([-0.51212066], dtype=float32),\n",
              " array([-0.634302], dtype=float32),\n",
              " array([-0.76226014], dtype=float32),\n",
              " array([-0.48803627], dtype=float32),\n",
              " array([-0.6485856], dtype=float32),\n",
              " array([-0.71543026], dtype=float32),\n",
              " array([-0.5443855], dtype=float32),\n",
              " array([-0.6085528], dtype=float32),\n",
              " array([-0.73993444], dtype=float32),\n",
              " array([-0.5786772], dtype=float32),\n",
              " array([-0.5879617], dtype=float32),\n",
              " array([-0.7881786], dtype=float32),\n",
              " array([-0.5770738], dtype=float32),\n",
              " array([-0.59230393], dtype=float32),\n",
              " array([-0.8046171], dtype=float32),\n",
              " array([-0.563754], dtype=float32),\n",
              " array([-0.6230298], dtype=float32),\n",
              " array([-0.7735784], dtype=float32),\n",
              " array([-0.5808547], dtype=float32)]"
            ]
          },
          "metadata": {},
          "execution_count": 39
        }
      ]
    },
    {
      "cell_type": "code",
      "source": [
        "true_predictions = scaler.inverse_transform(test_predictions)"
      ],
      "metadata": {
        "id": "mAMNURtuJiRp"
      },
      "execution_count": null,
      "outputs": []
    },
    {
      "cell_type": "code",
      "source": [
        "true_predictions"
      ],
      "metadata": {
        "colab": {
          "base_uri": "https://localhost:8080/"
        },
        "id": "qF9FSrP3J0nO",
        "outputId": "997e37b3-97c1-4159-b336-d7ea14427237"
      },
      "execution_count": null,
      "outputs": [
        {
          "output_type": "execute_result",
          "data": {
            "text/plain": [
              "array([[452.73347971],\n",
              "       [454.34708309],\n",
              "       [447.53629553],\n",
              "       [443.80728407],\n",
              "       [449.80056646],\n",
              "       [439.15293181],\n",
              "       [439.62207796],\n",
              "       [445.53034098],\n",
              "       [434.10648588],\n",
              "       [436.7937247 ],\n",
              "       [444.09938517],\n",
              "       [425.03858393],\n",
              "       [428.12840736],\n",
              "       [430.73489614],\n",
              "       [421.81649861],\n",
              "       [405.79823371],\n",
              "       [419.80838633],\n",
              "       [398.18050722],\n",
              "       [387.95587398],\n",
              "       [410.23418877],\n",
              "       [384.89905215],\n",
              "       [379.23942135],\n",
              "       [398.0087595 ],\n",
              "       [372.6787049 ],\n",
              "       [376.59721804],\n",
              "       [383.14885878],\n",
              "       [373.15205531],\n",
              "       [360.10994737],\n",
              "       [380.92984497],\n",
              "       [371.75027538],\n",
              "       [352.24789899],\n",
              "       [380.4920277 ],\n",
              "       [367.55913118],\n",
              "       [354.01476429],\n",
              "       [383.0413603 ],\n",
              "       [366.04721238],\n",
              "       [358.97170701],\n",
              "       [377.07679559],\n",
              "       [370.28468469],\n",
              "       [356.37793906],\n",
              "       [373.44702077],\n",
              "       [372.46425683],\n",
              "       [351.27129278],\n",
              "       [373.61673695],\n",
              "       [372.00462883],\n",
              "       [349.53127923],\n",
              "       [375.02663676],\n",
              "       [368.7522927 ],\n",
              "       [352.81672579],\n",
              "       [373.21652853]])"
            ]
          },
          "metadata": {},
          "execution_count": 41
        }
      ]
    },
    {
      "cell_type": "code",
      "source": [
        "test['predictions']=true_predictions"
      ],
      "metadata": {
        "colab": {
          "base_uri": "https://localhost:8080/"
        },
        "id": "QcLVwCAfJ9tt",
        "outputId": "2512e7b5-5bc1-4fd3-c951-e11516d1e747"
      },
      "execution_count": null,
      "outputs": [
        {
          "output_type": "stream",
          "name": "stderr",
          "text": [
            "/usr/local/lib/python3.7/dist-packages/ipykernel_launcher.py:1: SettingWithCopyWarning: \n",
            "A value is trying to be set on a copy of a slice from a DataFrame.\n",
            "Try using .loc[row_indexer,col_indexer] = value instead\n",
            "\n",
            "See the caveats in the documentation: https://pandas.pydata.org/pandas-docs/stable/user_guide/indexing.html#returning-a-view-versus-a-copy\n",
            "  \"\"\"Entry point for launching an IPython kernel.\n"
          ]
        }
      ]
    },
    {
      "cell_type": "code",
      "source": [
        "test"
      ],
      "metadata": {
        "colab": {
          "base_uri": "https://localhost:8080/",
          "height": 1000
        },
        "id": "U081NtYLKNdU",
        "outputId": "f271257d-fdc0-4c5b-9085-ef650ddc4cf6"
      },
      "execution_count": null,
      "outputs": [
        {
          "output_type": "execute_result",
          "data": {
            "text/plain": [
              "     close   predictions\n",
              "200  446.60   452.733480\n",
              "201  440.75   454.347083\n",
              "202  449.80   447.536296\n",
              "203  438.85   443.807284\n",
              "204  438.80   449.800566\n",
              "205  437.45   439.152932\n",
              "206  454.10   439.622078\n",
              "207  463.70   445.530341\n",
              "208  443.85   434.106486\n",
              "209  433.00   436.793725\n",
              "210  432.85   444.099385\n",
              "211  432.30   425.038584\n",
              "212  431.35   428.128407\n",
              "213  429.10   430.734896\n",
              "214  431.05   421.816499\n",
              "215  431.40   405.798234\n",
              "216  429.75   419.808386\n",
              "217  429.90   398.180507\n",
              "218  426.05   387.955874\n",
              "219  422.70   410.234189\n",
              "220  412.45   384.899052\n",
              "221  410.75   379.239421\n",
              "222  416.25   398.008759\n",
              "223  417.60   372.678705\n",
              "224  409.50   376.597218\n",
              "225  406.70   383.148859\n",
              "226  419.70   373.152055\n",
              "227  421.50   360.109947\n",
              "228  424.85   380.929845\n",
              "229  431.20   371.750275\n",
              "230  427.15   352.247899\n",
              "231  428.05   380.492028\n",
              "232  426.45   367.559131\n",
              "233  433.40   354.014764\n",
              "234  435.65   383.041360\n",
              "235  441.85   366.047212\n",
              "236  456.95   358.971707\n",
              "237  446.50   377.076796\n",
              "238  434.90   370.284685\n",
              "239  431.80   356.377939\n",
              "240  441.55   373.447021\n",
              "241  425.50   372.464257\n",
              "242  429.95   351.271293\n",
              "243  423.30   373.616737\n",
              "244  428.90   372.004629\n",
              "245  422.05   349.531279\n",
              "246  420.90   375.026637\n",
              "247  427.90   368.752293\n",
              "248  430.00   352.816726\n",
              "249  431.70   373.216529"
            ],
            "text/html": [
              "\n",
              "  <div id=\"df-199100c7-6de5-4a93-9e72-134b59c399da\">\n",
              "    <div class=\"colab-df-container\">\n",
              "      <div>\n",
              "<style scoped>\n",
              "    .dataframe tbody tr th:only-of-type {\n",
              "        vertical-align: middle;\n",
              "    }\n",
              "\n",
              "    .dataframe tbody tr th {\n",
              "        vertical-align: top;\n",
              "    }\n",
              "\n",
              "    .dataframe thead th {\n",
              "        text-align: right;\n",
              "    }\n",
              "</style>\n",
              "<table border=\"1\" class=\"dataframe\">\n",
              "  <thead>\n",
              "    <tr style=\"text-align: right;\">\n",
              "      <th></th>\n",
              "      <th>close</th>\n",
              "      <th>predictions</th>\n",
              "    </tr>\n",
              "  </thead>\n",
              "  <tbody>\n",
              "    <tr>\n",
              "      <th>200</th>\n",
              "      <td>446.60</td>\n",
              "      <td>452.733480</td>\n",
              "    </tr>\n",
              "    <tr>\n",
              "      <th>201</th>\n",
              "      <td>440.75</td>\n",
              "      <td>454.347083</td>\n",
              "    </tr>\n",
              "    <tr>\n",
              "      <th>202</th>\n",
              "      <td>449.80</td>\n",
              "      <td>447.536296</td>\n",
              "    </tr>\n",
              "    <tr>\n",
              "      <th>203</th>\n",
              "      <td>438.85</td>\n",
              "      <td>443.807284</td>\n",
              "    </tr>\n",
              "    <tr>\n",
              "      <th>204</th>\n",
              "      <td>438.80</td>\n",
              "      <td>449.800566</td>\n",
              "    </tr>\n",
              "    <tr>\n",
              "      <th>205</th>\n",
              "      <td>437.45</td>\n",
              "      <td>439.152932</td>\n",
              "    </tr>\n",
              "    <tr>\n",
              "      <th>206</th>\n",
              "      <td>454.10</td>\n",
              "      <td>439.622078</td>\n",
              "    </tr>\n",
              "    <tr>\n",
              "      <th>207</th>\n",
              "      <td>463.70</td>\n",
              "      <td>445.530341</td>\n",
              "    </tr>\n",
              "    <tr>\n",
              "      <th>208</th>\n",
              "      <td>443.85</td>\n",
              "      <td>434.106486</td>\n",
              "    </tr>\n",
              "    <tr>\n",
              "      <th>209</th>\n",
              "      <td>433.00</td>\n",
              "      <td>436.793725</td>\n",
              "    </tr>\n",
              "    <tr>\n",
              "      <th>210</th>\n",
              "      <td>432.85</td>\n",
              "      <td>444.099385</td>\n",
              "    </tr>\n",
              "    <tr>\n",
              "      <th>211</th>\n",
              "      <td>432.30</td>\n",
              "      <td>425.038584</td>\n",
              "    </tr>\n",
              "    <tr>\n",
              "      <th>212</th>\n",
              "      <td>431.35</td>\n",
              "      <td>428.128407</td>\n",
              "    </tr>\n",
              "    <tr>\n",
              "      <th>213</th>\n",
              "      <td>429.10</td>\n",
              "      <td>430.734896</td>\n",
              "    </tr>\n",
              "    <tr>\n",
              "      <th>214</th>\n",
              "      <td>431.05</td>\n",
              "      <td>421.816499</td>\n",
              "    </tr>\n",
              "    <tr>\n",
              "      <th>215</th>\n",
              "      <td>431.40</td>\n",
              "      <td>405.798234</td>\n",
              "    </tr>\n",
              "    <tr>\n",
              "      <th>216</th>\n",
              "      <td>429.75</td>\n",
              "      <td>419.808386</td>\n",
              "    </tr>\n",
              "    <tr>\n",
              "      <th>217</th>\n",
              "      <td>429.90</td>\n",
              "      <td>398.180507</td>\n",
              "    </tr>\n",
              "    <tr>\n",
              "      <th>218</th>\n",
              "      <td>426.05</td>\n",
              "      <td>387.955874</td>\n",
              "    </tr>\n",
              "    <tr>\n",
              "      <th>219</th>\n",
              "      <td>422.70</td>\n",
              "      <td>410.234189</td>\n",
              "    </tr>\n",
              "    <tr>\n",
              "      <th>220</th>\n",
              "      <td>412.45</td>\n",
              "      <td>384.899052</td>\n",
              "    </tr>\n",
              "    <tr>\n",
              "      <th>221</th>\n",
              "      <td>410.75</td>\n",
              "      <td>379.239421</td>\n",
              "    </tr>\n",
              "    <tr>\n",
              "      <th>222</th>\n",
              "      <td>416.25</td>\n",
              "      <td>398.008759</td>\n",
              "    </tr>\n",
              "    <tr>\n",
              "      <th>223</th>\n",
              "      <td>417.60</td>\n",
              "      <td>372.678705</td>\n",
              "    </tr>\n",
              "    <tr>\n",
              "      <th>224</th>\n",
              "      <td>409.50</td>\n",
              "      <td>376.597218</td>\n",
              "    </tr>\n",
              "    <tr>\n",
              "      <th>225</th>\n",
              "      <td>406.70</td>\n",
              "      <td>383.148859</td>\n",
              "    </tr>\n",
              "    <tr>\n",
              "      <th>226</th>\n",
              "      <td>419.70</td>\n",
              "      <td>373.152055</td>\n",
              "    </tr>\n",
              "    <tr>\n",
              "      <th>227</th>\n",
              "      <td>421.50</td>\n",
              "      <td>360.109947</td>\n",
              "    </tr>\n",
              "    <tr>\n",
              "      <th>228</th>\n",
              "      <td>424.85</td>\n",
              "      <td>380.929845</td>\n",
              "    </tr>\n",
              "    <tr>\n",
              "      <th>229</th>\n",
              "      <td>431.20</td>\n",
              "      <td>371.750275</td>\n",
              "    </tr>\n",
              "    <tr>\n",
              "      <th>230</th>\n",
              "      <td>427.15</td>\n",
              "      <td>352.247899</td>\n",
              "    </tr>\n",
              "    <tr>\n",
              "      <th>231</th>\n",
              "      <td>428.05</td>\n",
              "      <td>380.492028</td>\n",
              "    </tr>\n",
              "    <tr>\n",
              "      <th>232</th>\n",
              "      <td>426.45</td>\n",
              "      <td>367.559131</td>\n",
              "    </tr>\n",
              "    <tr>\n",
              "      <th>233</th>\n",
              "      <td>433.40</td>\n",
              "      <td>354.014764</td>\n",
              "    </tr>\n",
              "    <tr>\n",
              "      <th>234</th>\n",
              "      <td>435.65</td>\n",
              "      <td>383.041360</td>\n",
              "    </tr>\n",
              "    <tr>\n",
              "      <th>235</th>\n",
              "      <td>441.85</td>\n",
              "      <td>366.047212</td>\n",
              "    </tr>\n",
              "    <tr>\n",
              "      <th>236</th>\n",
              "      <td>456.95</td>\n",
              "      <td>358.971707</td>\n",
              "    </tr>\n",
              "    <tr>\n",
              "      <th>237</th>\n",
              "      <td>446.50</td>\n",
              "      <td>377.076796</td>\n",
              "    </tr>\n",
              "    <tr>\n",
              "      <th>238</th>\n",
              "      <td>434.90</td>\n",
              "      <td>370.284685</td>\n",
              "    </tr>\n",
              "    <tr>\n",
              "      <th>239</th>\n",
              "      <td>431.80</td>\n",
              "      <td>356.377939</td>\n",
              "    </tr>\n",
              "    <tr>\n",
              "      <th>240</th>\n",
              "      <td>441.55</td>\n",
              "      <td>373.447021</td>\n",
              "    </tr>\n",
              "    <tr>\n",
              "      <th>241</th>\n",
              "      <td>425.50</td>\n",
              "      <td>372.464257</td>\n",
              "    </tr>\n",
              "    <tr>\n",
              "      <th>242</th>\n",
              "      <td>429.95</td>\n",
              "      <td>351.271293</td>\n",
              "    </tr>\n",
              "    <tr>\n",
              "      <th>243</th>\n",
              "      <td>423.30</td>\n",
              "      <td>373.616737</td>\n",
              "    </tr>\n",
              "    <tr>\n",
              "      <th>244</th>\n",
              "      <td>428.90</td>\n",
              "      <td>372.004629</td>\n",
              "    </tr>\n",
              "    <tr>\n",
              "      <th>245</th>\n",
              "      <td>422.05</td>\n",
              "      <td>349.531279</td>\n",
              "    </tr>\n",
              "    <tr>\n",
              "      <th>246</th>\n",
              "      <td>420.90</td>\n",
              "      <td>375.026637</td>\n",
              "    </tr>\n",
              "    <tr>\n",
              "      <th>247</th>\n",
              "      <td>427.90</td>\n",
              "      <td>368.752293</td>\n",
              "    </tr>\n",
              "    <tr>\n",
              "      <th>248</th>\n",
              "      <td>430.00</td>\n",
              "      <td>352.816726</td>\n",
              "    </tr>\n",
              "    <tr>\n",
              "      <th>249</th>\n",
              "      <td>431.70</td>\n",
              "      <td>373.216529</td>\n",
              "    </tr>\n",
              "  </tbody>\n",
              "</table>\n",
              "</div>\n",
              "      <button class=\"colab-df-convert\" onclick=\"convertToInteractive('df-199100c7-6de5-4a93-9e72-134b59c399da')\"\n",
              "              title=\"Convert this dataframe to an interactive table.\"\n",
              "              style=\"display:none;\">\n",
              "        \n",
              "  <svg xmlns=\"http://www.w3.org/2000/svg\" height=\"24px\"viewBox=\"0 0 24 24\"\n",
              "       width=\"24px\">\n",
              "    <path d=\"M0 0h24v24H0V0z\" fill=\"none\"/>\n",
              "    <path d=\"M18.56 5.44l.94 2.06.94-2.06 2.06-.94-2.06-.94-.94-2.06-.94 2.06-2.06.94zm-11 1L8.5 8.5l.94-2.06 2.06-.94-2.06-.94L8.5 2.5l-.94 2.06-2.06.94zm10 10l.94 2.06.94-2.06 2.06-.94-2.06-.94-.94-2.06-.94 2.06-2.06.94z\"/><path d=\"M17.41 7.96l-1.37-1.37c-.4-.4-.92-.59-1.43-.59-.52 0-1.04.2-1.43.59L10.3 9.45l-7.72 7.72c-.78.78-.78 2.05 0 2.83L4 21.41c.39.39.9.59 1.41.59.51 0 1.02-.2 1.41-.59l7.78-7.78 2.81-2.81c.8-.78.8-2.07 0-2.86zM5.41 20L4 18.59l7.72-7.72 1.47 1.35L5.41 20z\"/>\n",
              "  </svg>\n",
              "      </button>\n",
              "      \n",
              "  <style>\n",
              "    .colab-df-container {\n",
              "      display:flex;\n",
              "      flex-wrap:wrap;\n",
              "      gap: 12px;\n",
              "    }\n",
              "\n",
              "    .colab-df-convert {\n",
              "      background-color: #E8F0FE;\n",
              "      border: none;\n",
              "      border-radius: 50%;\n",
              "      cursor: pointer;\n",
              "      display: none;\n",
              "      fill: #1967D2;\n",
              "      height: 32px;\n",
              "      padding: 0 0 0 0;\n",
              "      width: 32px;\n",
              "    }\n",
              "\n",
              "    .colab-df-convert:hover {\n",
              "      background-color: #E2EBFA;\n",
              "      box-shadow: 0px 1px 2px rgba(60, 64, 67, 0.3), 0px 1px 3px 1px rgba(60, 64, 67, 0.15);\n",
              "      fill: #174EA6;\n",
              "    }\n",
              "\n",
              "    [theme=dark] .colab-df-convert {\n",
              "      background-color: #3B4455;\n",
              "      fill: #D2E3FC;\n",
              "    }\n",
              "\n",
              "    [theme=dark] .colab-df-convert:hover {\n",
              "      background-color: #434B5C;\n",
              "      box-shadow: 0px 1px 3px 1px rgba(0, 0, 0, 0.15);\n",
              "      filter: drop-shadow(0px 1px 2px rgba(0, 0, 0, 0.3));\n",
              "      fill: #FFFFFF;\n",
              "    }\n",
              "  </style>\n",
              "\n",
              "      <script>\n",
              "        const buttonEl =\n",
              "          document.querySelector('#df-199100c7-6de5-4a93-9e72-134b59c399da button.colab-df-convert');\n",
              "        buttonEl.style.display =\n",
              "          google.colab.kernel.accessAllowed ? 'block' : 'none';\n",
              "\n",
              "        async function convertToInteractive(key) {\n",
              "          const element = document.querySelector('#df-199100c7-6de5-4a93-9e72-134b59c399da');\n",
              "          const dataTable =\n",
              "            await google.colab.kernel.invokeFunction('convertToInteractive',\n",
              "                                                     [key], {});\n",
              "          if (!dataTable) return;\n",
              "\n",
              "          const docLinkHtml = 'Like what you see? Visit the ' +\n",
              "            '<a target=\"_blank\" href=https://colab.research.google.com/notebooks/data_table.ipynb>data table notebook</a>'\n",
              "            + ' to learn more about interactive tables.';\n",
              "          element.innerHTML = '';\n",
              "          dataTable['output_type'] = 'display_data';\n",
              "          await google.colab.output.renderOutput(dataTable, element);\n",
              "          const docLink = document.createElement('div');\n",
              "          docLink.innerHTML = docLinkHtml;\n",
              "          element.appendChild(docLink);\n",
              "        }\n",
              "      </script>\n",
              "    </div>\n",
              "  </div>\n",
              "  "
            ]
          },
          "metadata": {},
          "execution_count": 43
        }
      ]
    }
  ]
}